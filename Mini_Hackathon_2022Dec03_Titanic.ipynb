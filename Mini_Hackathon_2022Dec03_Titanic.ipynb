{
  "nbformat": 4,
  "nbformat_minor": 0,
  "metadata": {
    "colab": {
      "private_outputs": true,
      "provenance": [],
      "include_colab_link": true
    },
    "kernelspec": {
      "name": "python3",
      "display_name": "Python 3"
    },
    "language_info": {
      "name": "python"
    }
  },
  "cells": [
    {
      "cell_type": "markdown",
      "metadata": {
        "id": "view-in-github",
        "colab_type": "text"
      },
      "source": [
        "<a href=\"https://colab.research.google.com/github/adrianyang2012/kaggle_submission/blob/main/Mini_Hackathon_2022Dec03_Titanic.ipynb\" target=\"_parent\"><img src=\"https://colab.research.google.com/assets/colab-badge.svg\" alt=\"Open In Colab\"/></a>"
      ]
    },
    {
      "cell_type": "markdown",
      "source": [
        "This is the first hackathon with Adrian and Kai (son and father)"
      ],
      "metadata": {
        "id": "BDAHq6EPHjTD"
      }
    },
    {
      "cell_type": "code",
      "source": [
        "from google.colab import files\n",
        "import pandas as pd\n",
        "import io\n",
        "uploaded = files.upload()\n",
        "uploaded2 = files.upload()\n",
        "train_data = pd.read_csv(io.BytesIO(uploaded['Titanic_train_data.csv']))\n",
        "test_data = pd.read_csv(io.BytesIO(uploaded2['Titanic_test_data.csv']))\n",
        "print(train_data)\n",
        "print(test_data)"
      ],
      "metadata": {
        "id": "QehJgHI1IYlS"
      },
      "execution_count": null,
      "outputs": []
    },
    {
      "cell_type": "code",
      "execution_count": null,
      "metadata": {
        "id": "E28yMYH2EpfG"
      },
      "outputs": [],
      "source": [
        "# function of calculating accuracy for a given predicton l\n",
        "def find_accuracy_for_train_data(actual_data, predictions,):\n",
        "  questions_correct = 0\n",
        "\n",
        "  for i in range(0, len(actual_data[\"Survived\"])):\n",
        "    if actual_data[\"Survived\"][i] == predictions[i]:\n",
        "      questions_correct+=1\n",
        "  \n",
        "  print(f\"[Debug] question_correct = {questions_correct}\")\n",
        "  print(f\"[Debug] all = {len(actual_data['Survived'])}\")\n",
        "  accuracy = questions_correct/len(actual_data[\"Survived\"])\n",
        "  print(f\"[Debug] accuracy = {accuracy}\")\n",
        "  return accuracy\n",
        "\n"
      ]
    },
    {
      "cell_type": "code",
      "source": [
        "# test the data\n",
        "\n",
        "a = find_accuracy_for_train_data(train_data, [0 for i in range(0, len(train_data[\"Survived\"]))])\n",
        "print(\"\")\n",
        "b = find_accuracy_for_train_data(train_data, [1 for i in range(0, len(train_data[\"Survived\"]))])"
      ],
      "metadata": {
        "id": "4--72-QyM2WO"
      },
      "execution_count": null,
      "outputs": []
    },
    {
      "cell_type": "code",
      "source": [
        "#our algorthim for predictions\n",
        "import random\n",
        "def our_algorthim(data, id):\n",
        "  if data[\"Sex\"][id] == \"female\":\n",
        "    return 1\n",
        "  else:\n",
        "    if data[\"Age\"][id] < 13 and data[\"Pclass\"][id] < 3:\n",
        "      return 1\n",
        "    else:\n",
        "      return 0 "
      ],
      "metadata": {
        "id": "roO8sDlcbOYr"
      },
      "execution_count": null,
      "outputs": []
    },
    {
      "cell_type": "code",
      "source": [
        "#running all data with our algorthim\n",
        "def run_all_data(data):\n",
        "  preds = []\n",
        "  for i in range(0, len(data['PassengerId'])):\n",
        "    preds.append(our_algorthim(data, i))\n",
        "  return preds"
      ],
      "metadata": {
        "id": "G_IkiJUZceH5"
      },
      "execution_count": null,
      "outputs": []
    },
    {
      "cell_type": "code",
      "source": [
        "#test our algorthim\n",
        "predictions = run_all_data(train_data)\n",
        "a = find_accuracy_for_train_data(train_data, predictions)"
      ],
      "metadata": {
        "id": "IXzJ5QIFdGwI"
      },
      "execution_count": null,
      "outputs": []
    },
    {
      "cell_type": "code",
      "source": [
        "#create prediction file with all predictions = 1\n",
        "import csv\n",
        "test_predictions = run_all_data(test_data)\n",
        "Row_name = [\"PassengerId\",\"Survived\"]\n",
        "rows = [[test_data[\"PassengerId\"][i],test_predictions[i]] for i in range(0,len(test_data[\"PassengerId\"]))]\n",
        "\n",
        "with open(\"test_sub.csv\", 'w') as file:\n",
        "  writer = csv.writer(file)\n",
        "\n",
        "  writer.writerow(Row_name)\n",
        "  for i in range(0,len(rows)):\n",
        "    writer.writerow(rows[i])"
      ],
      "metadata": {
        "id": "oAXTmMMkRoZd"
      },
      "execution_count": null,
      "outputs": []
    }
  ]
}